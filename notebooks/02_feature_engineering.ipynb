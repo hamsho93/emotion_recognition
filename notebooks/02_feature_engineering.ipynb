{
 "cells": [
  {
   "cell_type": "code",
   "execution_count": 3,
   "id": "bbbab7bc-84f3-429a-b7d8-2bc4b4eec5e4",
   "metadata": {},
   "outputs": [],
   "source": [
    "import numpy as np\n",
    "import pandas as pd\n",
    "import matplotlib.pyplot as plt\n",
    "import seaborn as sns\n",
    "import torch\n",
    "import librosa\n",
    "from transformers import Wav2Vec2Processor, Wav2Vec2Model, BertTokenizer, BertModel\n",
    "import logging\n",
    "import pickle\n",
    "from tqdm import tqdm\n",
    "\n",
    "\n",
    "logging.basicConfig(level=logging.INFO)\n"
   ]
  },
  {
   "cell_type": "code",
   "execution_count": 6,
   "id": "b621f040-3f6a-4d66-8cb3-fa1d2d900ad1",
   "metadata": {},
   "outputs": [
    {
     "name": "stderr",
     "output_type": "stream",
     "text": [
      "Some weights of Wav2Vec2Model were not initialized from the model checkpoint at facebook/wav2vec2-base-960h and are newly initialized: ['wav2vec2.encoder.pos_conv_embed.conv.parametrizations.weight.original0', 'wav2vec2.encoder.pos_conv_embed.conv.parametrizations.weight.original1', 'wav2vec2.masked_spec_embed']\n",
      "You should probably TRAIN this model on a down-stream task to be able to use it for predictions and inference.\n"
     ]
    }
   ],
   "source": []
  },
  {
   "cell_type": "code",
   "execution_count": null,
   "id": "915485cd-8058-487f-a88e-f880df7a111e",
   "metadata": {},
   "outputs": [],
   "source": []
  },
  {
   "cell_type": "code",
   "execution_count": 7,
   "id": "28585a9f-208c-46e4-b37f-03d7ed447133",
   "metadata": {},
   "outputs": [],
   "source": [
    "# Load the Wav2Vec2 processor and model\n",
    "processor = Wav2Vec2Processor.from_pretrained(\"facebook/wav2vec2-base-960h\")\n",
    "wav2vec_model = Wav2Vec2Model.from_pretrained(\"facebook/wav2vec2-base-960h\")\n",
    "\n",
    "# Load BERT tokenizer and model\n",
    "bert_tokenizer = BertTokenizer.from_pretrained('bert-base-uncased')\n",
    "bert_model = BertModel.from_pretrained('bert-base-uncased')\n",
    "\n",
    "\n",
    "def extract_wav2vec_features(audio, max_length=250):\n",
    "    \"\"\"\n",
    "    Extract features from audio using Wav2Vec2 model.\n",
    "    \n",
    "    Args:\n",
    "    audio (np.array): Audio signal\n",
    "    max_length (int): Maximum length of features to return\n",
    "    \n",
    "    Returns:\n",
    "    np.array: Extracted features, padded or truncated to max_length\n",
    "    \"\"\"\n",
    "    input_values = processor(audio, sampling_rate=16000, return_tensors=\"pt\").input_values\n",
    "    with torch.no_grad():\n",
    "        outputs = wav2vec_model(input_values)\n",
    "    features = outputs.last_hidden_state.squeeze().numpy()\n",
    "    return pad_or_truncate(features, max_length)\n",
    "\n",
    "def extract_mfcc(audio, sr=16000, n_mfcc=13):\n",
    "    \"\"\"\n",
    "    Extract MFCC features from audio.\n",
    "    \n",
    "    Args:\n",
    "    audio (np.array): Audio signal\n",
    "    sr (int): Sampling rate\n",
    "    n_mfcc (int): Number of MFCC coefficients to compute\n",
    "    \n",
    "    Returns:\n",
    "    np.array: MFCC features\n",
    "    \"\"\"\n",
    "    return librosa.feature.mfcc(y=audio, sr=sr, n_mfcc=n_mfcc)\n",
    "\n",
    "def extract_bert_features(text, max_length=128):\n",
    "    \"\"\"\n",
    "    Extract features from text using BERT model.\n",
    "    \n",
    "    Args:\n",
    "    text (str): Input text\n",
    "    max_length (int): Maximum length of input tokens\n",
    "    \n",
    "    Returns:\n",
    "    np.array: Extracted features\n",
    "    \"\"\"\n",
    "    inputs = bert_tokenizer(text, return_tensors=\"pt\", max_length=max_length, padding=\"max_length\", truncation=True)\n",
    "    with torch.no_grad():\n",
    "        outputs = bert_model(**inputs)\n",
    "    return outputs.last_hidden_state.squeeze(0).numpy()\n",
    "\n",
    "def pad_or_truncate(array, target_length, axis=0):\n",
    "    \"\"\"\n",
    "    Pad or truncate an array to a target length along a given axis.\n",
    "    \n",
    "    Args:\n",
    "    array (np.array): Input array\n",
    "    target_length (int): Desired length of the array\n",
    "    axis (int): Axis along which to pad or truncate\n",
    "    \n",
    "    Returns:\n",
    "    np.array: Padded or truncated array\n",
    "    \"\"\"\n",
    "    if array.shape[axis] > target_length:\n",
    "        slices = [slice(None)] * array.ndim\n",
    "        slices[axis] = slice(0, target_length)\n",
    "        return array[tuple(slices)]\n",
    "    elif array.shape[axis] < target_length:\n",
    "        pad_width = [(0, 0)] * array.ndim\n",
    "        pad_width[axis] = (0, target_length - array.shape[axis])\n",
    "        return np.pad(array, pad_width, mode='constant')\n",
    "    return array\n",
    "\n",
    "def engineer_features(X, metadata_df):\n",
    "    \"\"\"\n",
    "    Engineer features from audio samples and metadata.\n",
    "    \n",
    "    Args:\n",
    "    X (list): List of audio samples\n",
    "    metadata_df (pd.DataFrame): DataFrame containing metadata\n",
    "    \n",
    "    Returns:\n",
    "    np.array: Engineered features\n",
    "    \"\"\"\n",
    "    max_wav2vec_length = 250\n",
    "    max_mfcc_length = 200\n",
    "    max_bert_length = 128\n",
    "\n",
    "    features = []\n",
    "    for audio, meta in tqdm(zip(X, metadata_df.itertuples()), total=len(X), desc=\"Extracting features\"):\n",
    "        wav2vec_features = extract_wav2vec_features(audio, max_length=max_wav2vec_length)\n",
    "        mfcc_features = pad_or_truncate(extract_mfcc(audio), max_mfcc_length, axis=1)\n",
    "        bert_features = extract_bert_features(meta.statement, max_length=max_bert_length)\n",
    "        \n",
    "        combined_features = np.concatenate([\n",
    "            wav2vec_features.flatten(),\n",
    "            mfcc_features.flatten(),\n",
    "            bert_features.flatten(),\n",
    "        ])\n",
    "        \n",
    "        features.append(combined_features)\n",
    "\n",
    "    return np.array(features)\n"
   ]
  },
  {
   "cell_type": "code",
   "execution_count": null,
   "id": "350939b3-1d92-46c0-9e64-5d6157641c1b",
   "metadata": {},
   "outputs": [],
   "source": []
  },
  {
   "cell_type": "code",
   "execution_count": 8,
   "id": "84f6f09f-8408-49d7-90fa-26a82d34824f",
   "metadata": {},
   "outputs": [
    {
     "name": "stdout",
     "output_type": "stream",
     "text": [
      "Loaded 50 audio samples\n",
      "Metadata summary:\n",
      "          modality vocal_channel emotion emotional_intensity  \\\n",
      "count           50            50      50                  50   \n",
      "unique           1             1       6                   2   \n",
      "top     audio-only          song   angry              normal   \n",
      "freq            50            50      18                  25   \n",
      "mean           NaN           NaN     NaN                 NaN   \n",
      "std            NaN           NaN     NaN                 NaN   \n",
      "min            NaN           NaN     NaN                 NaN   \n",
      "25%            NaN           NaN     NaN                 NaN   \n",
      "50%            NaN           NaN     NaN                 NaN   \n",
      "75%            NaN           NaN     NaN                 NaN   \n",
      "max            NaN           NaN     NaN                 NaN   \n",
      "\n",
      "                           statement  repetition     actor gender  \n",
      "count                             50   50.000000  50.00000     50  \n",
      "unique                             2         NaN       NaN      2  \n",
      "top     Kids are talking by the door         NaN       NaN   male  \n",
      "freq                              28         NaN       NaN     26  \n",
      "mean                             NaN    1.560000  10.48000    NaN  \n",
      "std                              NaN    0.501427   6.87272    NaN  \n",
      "min                              NaN    1.000000   1.00000    NaN  \n",
      "25%                              NaN    1.000000   4.25000    NaN  \n",
      "50%                              NaN    2.000000   9.50000    NaN  \n",
      "75%                              NaN    2.000000  16.75000    NaN  \n",
      "max                              NaN    2.000000  24.00000    NaN  \n"
     ]
    },
    {
     "name": "stderr",
     "output_type": "stream",
     "text": [
      "Extracting features: 100%|██████████| 50/50 [00:20<00:00,  2.50it/s]\n"
     ]
    },
    {
     "name": "stdout",
     "output_type": "stream",
     "text": [
      "Engineered features shape: (50, 292904)\n"
     ]
    },
    {
     "data": {
      "image/png": "[encoded data removed]",
      "text/plain": [
       "<Figure size 1200x600 with 1 Axes>"
      ]
     },
     "metadata": {},
     "output_type": "display_data"
    },
    {
     "name": "stdout",
     "output_type": "stream",
     "text": [
      "Engineered features and updated metadata saved successfully.\n"
     ]
    }
   ],
   "source": [
    "# Load metadata summary\n",
    "with open('data/metadata_summary.pkl', 'rb') as f:\n",
    "    metadata_summary = pickle.load(f)\n",
    "\n",
    "# Load audio data\n",
    "X = [np.load(f'data/audio_sample_{i}.npy') for i in range(metadata_summary['num_samples'])]\n",
    "\n",
    "# Load metadata\n",
    "metadata_df = pd.read_csv('data/metadata.csv')\n",
    "\n",
    "print(f\"Loaded {len(X)} audio samples\")\n",
    "print(\"Metadata summary:\")\n",
    "print(metadata_df.describe(include='all'))\n",
    "\n",
    "# Feature engineering\n",
    "X_engineered = engineer_features(X, metadata_df)\n",
    "print(\"Engineered features shape:\", X_engineered.shape)\n",
    "\n",
    "# Visualize feature distributions\n",
    "plt.figure(figsize=(12, 6))\n",
    "sns.boxplot(data=X_engineered)\n",
    "plt.title(\"Distribution of Engineered Features\")\n",
    "plt.xlabel(\"Feature Index\")\n",
    "plt.ylabel(\"Feature Value\")\n",
    "plt.show()\n",
    "\n",
    "# Save engineered features\n",
    "np.save('data/engineered_features.npy', X_engineered)\n",
    "\n",
    "# Update metadata summary\n",
    "metadata_summary['engineered_features_shape'] = X_engineered.shape\n",
    "\n",
    "with open('data/metadata_summary.pkl', 'wb') as f:\n",
    "    pickle.dump(metadata_summary, f)\n",
    "\n",
    "print(\"Engineered features and updated metadata saved successfully.\")\n",
    "\n"
   ]
  },
  {
   "cell_type": "code",
   "execution_count": null,
   "id": "99c45671-ac69-4ac7-9d93-eb2b21511027",
   "metadata": {},
   "outputs": [],
   "source": []
  },
  {
   "cell_type": "code",
   "execution_count": null,
   "id": "62fadc0e-7b43-4668-be6c-688d2c48aaf0",
   "metadata": {},
   "outputs": [],
   "source": []
  },
  {
   "cell_type": "code",
   "execution_count": null,
   "id": "cad3d763-bfdb-476d-ac58-0350d63d88d7",
   "metadata": {},
   "outputs": [],
   "source": []
  },
  {
   "cell_type": "code",
   "execution_count": null,
   "id": "f7eadcda-c9ae-4058-8a3f-61a9d143e7c6",
   "metadata": {},
   "outputs": [],
   "source": []
  },
  {
   "cell_type": "code",
   "execution_count": null,
   "id": "9c903492-59c2-4167-8776-de9a46fae6a2",
   "metadata": {},
   "outputs": [],
   "source": []
  }
 ],
 "metadata": {
  "kernelspec": {
   "display_name": "Python (broker-tech-kernel)",
   "language": "python",
   "name": "broker-tech-kernel"
  },
  "language_info": {
   "codemirror_mode": {
    "name": "ipython",
    "version": 3
   },
   "file_extension": ".py",
   "mimetype": "text/x-python",
   "name": "python",
   "nbconvert_exporter": "python",
   "pygments_lexer": "ipython3",
   "version": "3.11.7"
  }
 },
 "nbformat": 4,
 "nbformat_minor": 5
}
